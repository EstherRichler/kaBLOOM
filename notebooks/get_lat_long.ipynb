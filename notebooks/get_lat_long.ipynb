{
 "cells": [
  {
   "cell_type": "code",
   "execution_count": 1,
   "metadata": {},
   "outputs": [],
   "source": [
    "import os\n",
    "import numpy as np\n",
    "import pandas as pd"
   ]
  },
  {
   "cell_type": "code",
   "execution_count": 23,
   "metadata": {},
   "outputs": [],
   "source": [
    "#get reference array of lat and long of all pixels in an area\n",
    "\n",
    "def get_coords(location):\n",
    "    \n",
    "    \n",
    "    if location == 'antelope':\n",
    "        \n",
    "        coords = (-118.4, 34.72, -118.32, 34.79)\n",
    "        dims = (779, 731)\n",
    "        \n",
    "    elif location == 'elsinore':\n",
    "        \n",
    "        coords = (-117.44, 33.72, -117.34, 33.8)\n",
    "        dims = (890, 925)\n",
    "        \n",
    "    elif location == 'grassmtn':\n",
    "        \n",
    "        coords = (-120.11, 34.75, -120.02, 34.82)\n",
    "        dims = (779, 822)\n",
    "    \n",
    "    \n",
    "    step_x = abs((coords[0] - coords[2]) / dims[1])\n",
    "    step_y = abs((coords[1] - coords[3]) / dims[0])\n",
    "    \n",
    "    lat, lon = np.mgrid[coords[3]:coords[1]:-step_y, coords[0]:coords[2]:step_x]\n",
    "    \n",
    "    \n",
    "    return lat, lon"
   ]
  },
  {
   "cell_type": "markdown",
   "metadata": {},
   "source": [
    "## Get latitude and longitude of every pixel predicted to have poppies"
   ]
  },
  {
   "cell_type": "code",
   "execution_count": 7,
   "metadata": {},
   "outputs": [],
   "source": [
    "#load predictions\n",
    "preds_2017 = np.load(os.environ['PWD'] + '/shared/probs_2017.npz')\n",
    "preds_2018 = np.load(os.environ['PWD'] + '/shared/probs_2018.npz')\n",
    "preds_2019 = np.load(os.environ['PWD'] + '/shared/probs_2019.npz')\n",
    "preds_2020 = np.load(os.environ['PWD'] + '/shared/probs_2020.npz')\n",
    "\n",
    "#convert from .npz to dictionaries\n",
    "preds_2017_dict = {item: preds_2017[item] for item in preds_2017.files}\n",
    "preds_2018_dict = {item: preds_2018[item] for item in preds_2018.files}\n",
    "preds_2019_dict = {item: preds_2019[item] for item in preds_2019.files}\n",
    "preds_2020_dict = {item: preds_2020[item] for item in preds_2020.files}\n",
    "\n",
    "#merge all years into a single dictionary\n",
    "preds_dict = {**preds_2017_dict, **preds_2018_dict, **preds_2019_dict, **preds_2020_dict}"
   ]
  },
  {
   "cell_type": "code",
   "execution_count": 4,
   "metadata": {},
   "outputs": [],
   "source": [
    "#get latitude and longitude of each poppy pixel\n",
    "\n",
    "lats_dict = {}\n",
    "longs_dict = {}\n",
    "\n",
    "for key in preds_dict.keys():\n",
    "    \n",
    "    location = key.split('_')[1]\n",
    "    lat, long = get_coords(location)\n",
    "    \n",
    "    arr = preds_dict[key] #binary prediction array\n",
    "    \n",
    "    idx = arr > 0.85 #index of poppy pixel predictions model is pretty sure of\n",
    "    lats_dict[key] = lat[idx]\n",
    "    longs_dict[key] = long[idx]"
   ]
  },
  {
   "cell_type": "code",
   "execution_count": 5,
   "metadata": {},
   "outputs": [],
   "source": [
    "#save\n",
    "np.savez('/home/esther/poppy-finder/data/lats', **lats_dict)\n",
    "np.savez('/home/esther/poppy-finder/data/longs', **longs_dict)"
   ]
  },
  {
   "cell_type": "markdown",
   "metadata": {},
   "source": [
    "## Get latitude and longitude of the centroid of each poppy patch"
   ]
  },
  {
   "cell_type": "code",
   "execution_count": 2,
   "metadata": {},
   "outputs": [],
   "source": [
    "#load centroids\n",
    "centroids_2017 = np.load(os.environ['PWD'] + '/poppy-finder/data/centroids_2017.npz')\n",
    "centroids_2018 = np.load(os.environ['PWD'] + '/poppy-finder/data/centroids_2018.npz')\n",
    "centroids_2019 = np.load(os.environ['PWD'] + '/poppy-finder/data/centroids_2019.npz')\n",
    "centroids_2020 = np.load(os.environ['PWD'] + '/poppy-finder/data/centroids_2020.npz')\n",
    "\n",
    "#convert from .npz to dictionaries\n",
    "centroids_2017_dict = {item: centroids_2017[item] for item in centroids_2017.files}\n",
    "centroids_2018_dict = {item: centroids_2018[item] for item in centroids_2018.files}\n",
    "centroids_2019_dict = {item: centroids_2019[item] for item in centroids_2019.files}\n",
    "centroids_2020_dict = {item: centroids_2020[item] for item in centroids_2020.files}\n",
    "\n",
    "#merge all years into a single dictionary\n",
    "centroids_dict = {**centroids_2017_dict, **centroids_2018_dict, **centroids_2019_dict, **centroids_2020_dict}"
   ]
  },
  {
   "cell_type": "code",
   "execution_count": 47,
   "metadata": {},
   "outputs": [],
   "source": [
    "#get latitude and longitude of each centroid\n",
    "\n",
    "centroids_lat_long_dict = {}\n",
    "\n",
    "for key in centroids_dict.keys():\n",
    "    \n",
    "    location = key.split('_')[1]\n",
    "    lat, long = get_coords(location)\n",
    "    \n",
    "    #get x and y coordinates of all centroids\n",
    "    centroids_list = centroids_dict[key]\n",
    "\n",
    "    #convert to integer (for indexing purposes)\n",
    "    centroids_list = [[ int(round(cent[0])), int(round(cent[1])) ] for cent in centroids_list]\n",
    "\n",
    "    #get lat and long coordinates for all centroids in list\n",
    "    centroids_lat_long_list = [[ lat[cent[0],cent[1]], long[cent[0],cent[1]] ] for cent in centroids_list]\n",
    "    \n",
    "    centroids_lat_long_dict[key] = centroids_lat_long_list"
   ]
  },
  {
   "cell_type": "code",
   "execution_count": 49,
   "metadata": {},
   "outputs": [],
   "source": [
    "#save\n",
    "np.savez('/home/esther/poppy-finder/data/centroids_lat_long', **centroids_lat_long_dict)"
   ]
  },
  {
   "cell_type": "code",
   "execution_count": null,
   "metadata": {},
   "outputs": [],
   "source": []
  },
  {
   "cell_type": "code",
   "execution_count": null,
   "metadata": {},
   "outputs": [],
   "source": []
  },
  {
   "cell_type": "code",
   "execution_count": null,
   "metadata": {},
   "outputs": [],
   "source": []
  },
  {
   "cell_type": "code",
   "execution_count": null,
   "metadata": {},
   "outputs": [],
   "source": []
  }
 ],
 "metadata": {
  "kernelspec": {
   "display_name": "Python 3",
   "language": "python",
   "name": "python3"
  },
  "language_info": {
   "codemirror_mode": {
    "name": "ipython",
    "version": 3
   },
   "file_extension": ".py",
   "mimetype": "text/x-python",
   "name": "python",
   "nbconvert_exporter": "python",
   "pygments_lexer": "ipython3",
   "version": "3.8.3"
  }
 },
 "nbformat": 4,
 "nbformat_minor": 4
}
