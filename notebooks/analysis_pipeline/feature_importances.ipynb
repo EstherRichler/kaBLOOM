{
 "cells": [
  {
   "cell_type": "code",
   "execution_count": 1,
   "metadata": {},
   "outputs": [],
   "source": [
    "import pickle\n",
    "import numpy as np\n",
    "import matplotlib.pyplot as plt\n",
    "plt.style.use('seaborn')"
   ]
  },
  {
   "cell_type": "code",
   "execution_count": 2,
   "metadata": {},
   "outputs": [],
   "source": [
    "# load model from disk\n",
    "model = pickle.load(open('/home/esther/shared/model_iter3.pkl', 'rb'))"
   ]
  },
  {
   "cell_type": "code",
   "execution_count": 3,
   "metadata": {},
   "outputs": [
    {
     "data": {
      "text/plain": [
       "RandomForestClassifier(bootstrap=True, ccp_alpha=0.0, class_weight=None,\n",
       "                       criterion='gini', max_depth=5, max_features='auto',\n",
       "                       max_leaf_nodes=None, max_samples=None,\n",
       "                       min_impurity_decrease=0.0, min_impurity_split=None,\n",
       "                       min_samples_leaf=1, min_samples_split=2,\n",
       "                       min_weight_fraction_leaf=0.0, n_estimators=100,\n",
       "                       n_jobs=None, oob_score=False, random_state=1, verbose=0,\n",
       "                       warm_start=False)"
      ]
     },
     "execution_count": 3,
     "metadata": {},
     "output_type": "execute_result"
    }
   ],
   "source": [
    "model"
   ]
  },
  {
   "cell_type": "code",
   "execution_count": null,
   "metadata": {},
   "outputs": [],
   "source": [
    "'''\n",
    "\n",
    "PARAMETERS THAT I USED\n",
    "\n",
    "Number of trees in the forest (n_estimators): 100\n",
    "\n",
    "Function to measure quality of split (criterion): gini\n",
    "\n",
    "Maximum depth of the trees (max_depth): 5\n",
    "\n",
    "Minimum number of samples required to split an internal node (min_samples): 2\n",
    "\n",
    "Number of features to consider when looking for the best split (max_features): square root of number of features\n",
    "\n",
    "Bootstrap samples: yes\n",
    "\n",
    "\n",
    "'''"
   ]
  },
  {
   "cell_type": "code",
   "execution_count": 4,
   "metadata": {},
   "outputs": [
    {
     "data": {
      "image/png": "[encoded data removed]",
      "text/plain": [
       "<Figure size 432x324 with 1 Axes>"
      ]
     },
     "metadata": {},
     "output_type": "display_data"
    }
   ],
   "source": [
    "# visualize\n",
    "\n",
    "#fig, ax = plt.subplots(figsize=(6,6))\n",
    "fig, ax = plt.subplots(figsize=(6,4.5))\n",
    "\n",
    "x = model.feature_importances_\n",
    "y = list(range(1, len(x)+1))\n",
    "\n",
    "barplot = plt.barh(y, x, color='gray')\n",
    "\n",
    "# set color of bars for r, g, and b wavelengths\n",
    "barplot[1].set_color('blue')\n",
    "barplot[2].set_color('green')\n",
    "barplot[3].set_color('red')\n",
    "\n",
    "\n",
    "# set ticks and font sizes\n",
    "\n",
    "ax.set_yticks(y)\n",
    "\n",
    "ax.set_yticklabels(y, fontsize=14)\n",
    "ax.set_xticklabels(np.round(ax.get_xticks(), 2), fontsize=14)\n",
    "\n",
    "ax.set_ylabel('Feature', fontsize=16)\n",
    "ax.set_xlabel('Importance', fontsize=16);"
   ]
  },
  {
   "cell_type": "code",
   "execution_count": null,
   "metadata": {},
   "outputs": [],
   "source": []
  },
  {
   "cell_type": "code",
   "execution_count": null,
   "metadata": {},
   "outputs": [],
   "source": []
  },
  {
   "cell_type": "code",
   "execution_count": null,
   "metadata": {},
   "outputs": [],
   "source": []
  }
 ],
 "metadata": {
  "kernelspec": {
   "display_name": "Python 3",
   "language": "python",
   "name": "python3"
  },
  "language_info": {
   "codemirror_mode": {
    "name": "ipython",
    "version": 3
   },
   "file_extension": ".py",
   "mimetype": "text/x-python",
   "name": "python",
   "nbconvert_exporter": "python",
   "pygments_lexer": "ipython3",
   "version": "3.8.3"
  }
 },
 "nbformat": 4,
 "nbformat_minor": 4
}
