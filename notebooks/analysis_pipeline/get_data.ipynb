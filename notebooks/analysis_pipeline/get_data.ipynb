{
 "cells": [
  {
   "cell_type": "code",
   "execution_count": 1,
   "metadata": {},
   "outputs": [],
   "source": [
    "from sentinelhub import SHConfig\n",
    "\n",
    "\n",
    "INSTANCE_ID = ''  # In case you put instance ID into configuration file you can leave this unchanged\n",
    "\n",
    "if INSTANCE_ID:\n",
    "    config = SHConfig()\n",
    "    config.instance_id = INSTANCE_ID\n",
    "else:\n",
    "    config = None"
   ]
  },
  {
   "cell_type": "code",
   "execution_count": 2,
   "metadata": {},
   "outputs": [],
   "source": [
    "import datetime\n",
    "import numpy as np\n",
    "import matplotlib.pyplot as plt"
   ]
  },
  {
   "cell_type": "code",
   "execution_count": 3,
   "metadata": {},
   "outputs": [],
   "source": [
    "from sentinelhub import WcsRequest, MimeType, CRS, BBox"
   ]
  },
  {
   "cell_type": "code",
   "execution_count": 17,
   "metadata": {},
   "outputs": [],
   "source": [
    "#initialize wcs request\n",
    "\n",
    "def get_bands_request(coords, year):\n",
    "    \n",
    "    #set date range\n",
    "    date1 = year + '-03-01'\n",
    "    date2 = year + '-04-30'\n",
    "    \n",
    "    #make bounding box\n",
    "    box = BBox(bbox=coords, crs=CRS.WGS84)\n",
    "    \n",
    "    #specify request arguments\n",
    "    wcs_bands_request = WcsRequest(\n",
    "        layer='BANDS-S2-L1C',\n",
    "        bbox=box,\n",
    "        time=(date1, date2),\n",
    "        resx = '10m',\n",
    "        resy = '10m',\n",
    "        image_format=MimeType.TIFF_d32f,\n",
    "        time_difference=datetime.timedelta(hours=2),\n",
    "        maxcc = 0.9,\n",
    "        config=config\n",
    "    )\n",
    "    \n",
    "    return wcs_bands_request"
   ]
  },
  {
   "cell_type": "code",
   "execution_count": 5,
   "metadata": {},
   "outputs": [],
   "source": [
    "#get images\n",
    "def get_images(wcs_bands_request):\n",
    "    \n",
    "    wcs_bands_img = wcs_bands_request.get_data()\n",
    "    \n",
    "    return wcs_bands_img"
   ]
  },
  {
   "cell_type": "code",
   "execution_count": 6,
   "metadata": {},
   "outputs": [],
   "source": [
    "#save images\n",
    "\n",
    "def save_images(wcs_bands_request, wcs_bands_img, location, year):\n",
    "    \n",
    "    #get dates of images and convert to strings\n",
    "    dates = wcs_bands_request.get_dates()\n",
    "    date_strings = [datetime.datetime.strftime(date, '%Y-%m-%d') for date in dates]\n",
    "    \n",
    "    #save each 3D array as a separate file\n",
    "    for name, img in zip(date_strings, wcs_bands_img):\n",
    "        \n",
    "        print(name)\n",
    "        \n",
    "        #build filename\n",
    "        filename = '/home/esther/shared/' + name + '_' + location\n",
    "        \n",
    "        #save as .npy file\n",
    "        np.save(filename, img)"
   ]
  },
  {
   "cell_type": "code",
   "execution_count": 7,
   "metadata": {},
   "outputs": [],
   "source": [
    "#set bounding box coordinates for different locations\n",
    "\n",
    "#Antelope Valley\n",
    "antelope_coords = [-118.4, 34.72, -118.32, 34.79]\n",
    "\n",
    "#Lake Elsinore\n",
    "elsinore_coords = [-117.34, 33.72, -117.44, 33.8]\n",
    "\n",
    "#Grass Mountain\n",
    "grassmtn_coords = [-120.02, 34.75, -120.11, 34.82]\n",
    "\n",
    "#Carrizo Plains - for another time\n",
    "carrizo_coords = [-119.59, 35.05, -119.69, 35.14]"
   ]
  },
  {
   "cell_type": "code",
   "execution_count": 23,
   "metadata": {},
   "outputs": [
    {
     "name": "stdout",
     "output_type": "stream",
     "text": [
      "CPU times: user 37.3 ms, sys: 0 ns, total: 37.3 ms\n",
      "Wall time: 884 ms\n"
     ]
    }
   ],
   "source": [
    "#put it all together\n",
    "\n",
    "#change these variables as needed\n",
    "location = 'antelope'\n",
    "coords = antelope_coords\n",
    "year = '2017'\n",
    "\n",
    "#set up request\n",
    "%time wcs_bands_request = get_bands_request(coords, year)"
   ]
  },
  {
   "cell_type": "code",
   "execution_count": 24,
   "metadata": {},
   "outputs": [
    {
     "name": "stdout",
     "output_type": "stream",
     "text": [
      "CPU times: user 1.81 s, sys: 810 ms, total: 2.62 s\n",
      "Wall time: 31.8 s\n"
     ]
    }
   ],
   "source": [
    "#get images\n",
    "%time wcs_bands_img = get_images(wcs_bands_request)"
   ]
  },
  {
   "cell_type": "code",
   "execution_count": 25,
   "metadata": {},
   "outputs": [
    {
     "name": "stdout",
     "output_type": "stream",
     "text": [
      "2017-03-05\n",
      "2017-03-15\n",
      "2017-03-25\n",
      "2017-04-04\n",
      "2017-04-14\n",
      "2017-04-24\n"
     ]
    }
   ],
   "source": [
    "#save images\n",
    "save_images(wcs_bands_request, wcs_bands_img, location, year)"
   ]
  },
  {
   "cell_type": "code",
   "execution_count": null,
   "metadata": {},
   "outputs": [],
   "source": []
  },
  {
   "cell_type": "code",
   "execution_count": null,
   "metadata": {},
   "outputs": [],
   "source": []
  },
  {
   "cell_type": "code",
   "execution_count": null,
   "metadata": {},
   "outputs": [],
   "source": []
  },
  {
   "cell_type": "code",
   "execution_count": null,
   "metadata": {},
   "outputs": [],
   "source": []
  },
  {
   "cell_type": "code",
   "execution_count": null,
   "metadata": {},
   "outputs": [],
   "source": []
  }
 ],
 "metadata": {
  "kernelspec": {
   "display_name": "Python 3",
   "language": "python",
   "name": "python3"
  },
  "language_info": {
   "codemirror_mode": {
    "name": "ipython",
    "version": 3
   },
   "file_extension": ".py",
   "mimetype": "text/x-python",
   "name": "python",
   "nbconvert_exporter": "python",
   "pygments_lexer": "ipython3",
   "version": "3.8.3"
  }
 },
 "nbformat": 4,
 "nbformat_minor": 4
}
